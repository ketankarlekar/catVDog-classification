import numpy as np
import matplotlib.pyplot as plt
import random
from tensorflow.keras.models import Sequential
from tensorflow.keras.layers import Input, Conv2D, MaxPooling2D, Dense, Flatten, Dropout
from tensorflow.keras.preprocessing.image import ImageDataGenerator

# Load datasets
X_train = np.loadtxt("input.csv", delimiter=',')
Y_train = np.loadtxt("labels.csv", delimiter=',')
X_test = np.loadtxt("input_test.csv", delimiter=',')
Y_test = np.loadtxt("labels_test.csv", delimiter=',')

# Reshape and normalize data
X_train = X_train.reshape(len(X_train), 100, 100, 3) / 255.0
Y_train = Y_train.reshape(len(Y_train), 1)
X_test = X_test.reshape(len(X_test), 100, 100, 3) / 255.0
Y_test = Y_test.reshape(len(Y_test), 1)

# Print shapes of the datasets
print("Shape of X_train:", X_train.shape)
print("Shape of Y_train:", Y_train.shape)
print("Shape of X_test:", X_test.shape)
print("Shape of Y_test:", Y_test.shape)

# Visualize a random training sample
idx = random.randint(0, len(X_train) - 1)
plt.imshow(X_train[idx])
plt.axis('off')  # Hide axes for better visualization
plt.show()

# Data augmentation
datagen = ImageDataGenerator(
    rotation_range=20,
    width_shift_range=0.2,
    height_shift_range=0.2,
    shear_range=0.2,
    zoom_range=0.2,
    horizontal_flip=True,
    fill_mode='nearest'
)
datagen.fit(X_train)

# Define the model
model = Sequential([
    Conv2D(32, (3, 3), activation='relu', input_shape=(100, 100, 3)),
    MaxPooling2D((2, 2)),
    Dropout(0.25),
    
    Conv2D(64, (3, 3), activation='relu'),
    MaxPooling2D((2, 2)),
    Dropout(0.25),
    
    Flatten(),
    Dense(128, activation='relu'),
    Dense(1, activation='sigmoid'),
])

# Compile the model
model.compile(loss='binary_crossentropy', optimizer='adam', metrics=['accuracy'])

# Fit the model with data augmentation
model.fit(datagen.flow(X_train, Y_train), epochs=20)

# Evaluate the model on test data
loss, accuracy = model.evaluate(X_test, Y_test)
print(f"Test Loss: {loss:.4f}, Test Accuracy: {accuracy:.4f}")

# Visualize a random test sample and make a prediction
idx2 = random.randint(0, len(Y_test) - 1)
plt.imshow(X_test[idx2])
plt.axis('off')  # Hide axes for better visualization
plt.show()

# Make a prediction for the selected test sample
Y_pred = model.predict(X_test[idx2:idx2 + 1])  # Predict for one sample

# Convert prediction to binary (True/False) based on a threshold
pred_label = 'Dog' if Y_pred[0] < 0.5 else 'Cat'
print("Our model says it's a", pred_label)
